{
 "cells": [
  {
   "cell_type": "markdown",
   "id": "f3405de8-fdb1-41ea-87de-782e328af884",
   "metadata": {},
   "source": [
    "## 随机生成语料"
   ]
  },
  {
   "cell_type": "code",
   "execution_count": 1,
   "id": "14dba64a-785c-42c6-8ff4-141937347b78",
   "metadata": {},
   "outputs": [],
   "source": [
    "import random"
   ]
  },
  {
   "cell_type": "code",
   "execution_count": 20,
   "id": "fbb9cca9-d835-4b88-a7a3-826296fa1d8c",
   "metadata": {},
   "outputs": [],
   "source": [
    "aa = 'abcdefghjkmnopqrstuvwxyz1234567890:=+-/'"
   ]
  },
  {
   "cell_type": "code",
   "execution_count": 24,
   "id": "66f9052c-521a-4220-bdda-d44022a80e33",
   "metadata": {},
   "outputs": [
    {
     "name": "stdout",
     "output_type": "stream",
     "text": [
      "wcr3g8fj0t\n"
     ]
    }
   ],
   "source": [
    "aaa = ''.join(random.sample(aa,10))\n",
    "# aaaa = ''.join(aaa) aaa =\n",
    "print(aaa)"
   ]
  },
  {
   "cell_type": "code",
   "execution_count": 25,
   "id": "227e3dc9-b59f-4180-b69b-dc3451284f77",
   "metadata": {},
   "outputs": [],
   "source": [
    "with open(f'eng_text.txt', 'a+', encoding='utf8') as fp:\n",
    "    i = 0\n",
    "    while i<20000:\n",
    "        fp.write(''.join(random.sample(aa,10)))\n",
    "        fp.write('\\n')\n",
    "        i += 1"
   ]
  }
 ],
 "metadata": {
  "kernelspec": {
   "display_name": "Python 3 (ipykernel)",
   "language": "python",
   "name": "python3"
  },
  "language_info": {
   "codemirror_mode": {
    "name": "ipython",
    "version": 3
   },
   "file_extension": ".py",
   "mimetype": "text/x-python",
   "name": "python",
   "nbconvert_exporter": "python",
   "pygments_lexer": "ipython3",
   "version": "3.8.5"
  }
 },
 "nbformat": 4,
 "nbformat_minor": 5
}
